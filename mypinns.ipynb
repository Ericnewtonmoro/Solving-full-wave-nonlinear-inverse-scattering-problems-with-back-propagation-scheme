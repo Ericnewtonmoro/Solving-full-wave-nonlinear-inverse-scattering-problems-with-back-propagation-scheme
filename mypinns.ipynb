{
  "nbformat": 4,
  "nbformat_minor": 0,
  "metadata": {
    "colab": {
      "provenance": [],
      "mount_file_id": "15U1v6HxJt_inWWVh3DxYfv7NYB9Z_oDw",
      "authorship_tag": "ABX9TyMdLKeE09rJ5cSjQplGv2Ks",
      "include_colab_link": true
    },
    "kernelspec": {
      "name": "python3",
      "display_name": "Python 3"
    },
    "language_info": {
      "name": "python"
    }
  },
  "cells": [
    {
      "cell_type": "markdown",
      "metadata": {
        "id": "view-in-github",
        "colab_type": "text"
      },
      "source": [
        "<a href=\"https://colab.research.google.com/github/Ericnewtonmoro/Solving-full-wave-nonlinear-inverse-scattering-problems-with-back-propagation-scheme/blob/master/mypinns.ipynb\" target=\"_parent\"><img src=\"https://colab.research.google.com/assets/colab-badge.svg\" alt=\"Open In Colab\"/></a>"
      ]
    },
    {
      "cell_type": "code",
      "execution_count": null,
      "metadata": {
        "colab": {
          "base_uri": "https://localhost:8080/"
        },
        "id": "sJBDX35MaZyD",
        "outputId": "21a6616e-ded7-4259-8f46-82129c84d48d",
        "collapsed": true
      },
      "outputs": [
        {
          "output_type": "stream",
          "name": "stdout",
          "text": [
            "Cloning into 'pinnsformer'...\n",
            "remote: Enumerating objects: 148, done.\u001b[K\n",
            "remote: Counting objects:   4% (1/24)\u001b[K\rremote: Counting objects:   8% (2/24)\u001b[K\rremote: Counting objects:  12% (3/24)\u001b[K\rremote: Counting objects:  16% (4/24)\u001b[K\rremote: Counting objects:  20% (5/24)\u001b[K\rremote: Counting objects:  25% (6/24)\u001b[K\rremote: Counting objects:  29% (7/24)\u001b[K\rremote: Counting objects:  33% (8/24)\u001b[K\rremote: Counting objects:  37% (9/24)\u001b[K\rremote: Counting objects:  41% (10/24)\u001b[K\rremote: Counting objects:  45% (11/24)\u001b[K\rremote: Counting objects:  50% (12/24)\u001b[K\rremote: Counting objects:  54% (13/24)\u001b[K\rremote: Counting objects:  58% (14/24)\u001b[K\rremote: Counting objects:  62% (15/24)\u001b[K\rremote: Counting objects:  66% (16/24)\u001b[K\rremote: Counting objects:  70% (17/24)\u001b[K\rremote: Counting objects:  75% (18/24)\u001b[K\rremote: Counting objects:  79% (19/24)\u001b[K\rremote: Counting objects:  83% (20/24)\u001b[K\rremote: Counting objects:  87% (21/24)\u001b[K\rremote: Counting objects:  91% (22/24)\u001b[K\rremote: Counting objects:  95% (23/24)\u001b[K\rremote: Counting objects: 100% (24/24)\u001b[K\rremote: Counting objects: 100% (24/24), done.\u001b[K\n",
            "remote: Compressing objects: 100% (16/16), done.\u001b[K\n",
            "remote: Total 148 (delta 15), reused 8 (delta 8), pack-reused 124 (from 1)\u001b[K\n",
            "Receiving objects: 100% (148/148), 31.16 MiB | 20.11 MiB/s, done.\n",
            "Resolving deltas: 100% (42/42), done.\n"
          ]
        }
      ],
      "source": [
        "# Clone the repository\n",
        "!rm -rf pinnsformer\n",
        "!git clone https://github.com/AdityaLab/pinnsformer\n",
        "\n",
        "# Import sys and the repository to the path\n",
        "import sys\n",
        "import os\n",
        "os._exit(00)\n",
        "\n",
        "repo_path = \"/content/pinnsformer\"\n",
        "sys.path.append(repo_path)\n",
        "\n",
        "import numpy as np\n",
        "import torch\n",
        "import torch.nn as nn\n",
        "import matplotlib.pyplot as plt\n",
        "import random\n",
        "from torch.optim import LBFGS, Adam\n",
        "from tqdm import tqdm\n",
        "from scipy.io import loadmat  # To load MATLAB .mat files\n",
        "\n",
        "from util import *\n",
        "from model.pinn import PINNs\n",
        "from model.pinnsformer import PINNsformer\n",
        "\n",
        "# Set random seed for reproducibility\n",
        "seed = 0\n",
        "np.random.seed(seed)\n",
        "random.seed(seed)\n",
        "torch.manual_seed(seed)\n",
        "torch.cuda.manual_seed(seed)\n",
        "\n",
        "device = 'cuda:0' if torch.cuda.is_available() else 'cpu'\n",
        "\n",
        "# Load MATLAB data\n",
        "mat_data = loadmat('/content/drive/MyDrive/CNN_Data_512_Cir.mat')\n",
        "epsil_exa = mat_data['epsil_exa']  # Ground truth patterns\n",
        "x_dom = mat_data['x_dom']  # x coordinates\n",
        "y_dom = mat_data['y_dom']  # y coordinates\n",
        "\n",
        "# Normalize and reshape data\n",
        "epsil_exa = epsil_exa.astype(np.float32)  # Ensure float32 dtype\n",
        "epsil_exa = (epsil_exa - np.min(epsil_exa)) / (np.max(epsil_exa) - np.min(epsil_exa))  # Normalize to [0, 1]\n",
        "\n",
        "# Flatten and stack coordinates and ground truth\n",
        "nx, ny = x_dom.shape[0], y_dom.shape[1]\n",
        "xx, yy = np.meshgrid(x_dom.flatten(), y_dom.flatten())\n",
        "coords = np.stack([xx.flatten(), yy.flatten()], axis=1)  # Shape: (nx*ny, 2)\n",
        "targets = epsil_exa.flatten()  # Shape: (nx*ny,)\n",
        "\n",
        "# Convert to PyTorch tensors\n",
        "coords = torch.tensor(coords, dtype=torch.float32, requires_grad=True).to(device)\n",
        "targets = torch.tensor(targets, dtype=torch.float32).to(device)\n",
        "\n",
        "# Prepare time sequences (if needed)\n",
        "def make_time_sequence(data, num_step=5, step=1e-4):\n",
        "    time_seq = []\n",
        "    for i in range(num_step):\n",
        "        t = i * step * np.ones((data.shape[0], 1))\n",
        "        time_seq.append(np.hstack([data, t]))\n",
        "    return np.stack(time_seq, axis=1)\n",
        "\n",
        "# Add time dimension (if applicable)\n",
        "coords = make_time_sequence(coords.numpy(), num_step=5, step=1e-4)\n",
        "coords = torch.tensor(coords, dtype=torch.float32, requires_grad=True).to(device)\n",
        "\n",
        "# Initialize model\n",
        "def init_weights(m):\n",
        "    if isinstance(m, nn.Linear):\n",
        "        torch.nn.init.xavier_uniform_(m.weight)\n",
        "        m.bias.data.fill_(0.01)\n",
        "\n",
        "model = PINNsformer(d_out=1, d_hidden=512, d_model=32, N=1, heads=2).to(device)\n",
        "model.apply(init_weights)\n",
        "optim = LBFGS(model.parameters(), line_search_fn='strong_wolfe')\n",
        "\n",
        "print(model)\n",
        "print(get_n_params(model))\n",
        "\n",
        "# Training loop\n",
        "loss_track = []\n",
        "\n",
        "for i in tqdm(range(1000)):\n",
        "    def closure():\n",
        "        optim.zero_grad()\n",
        "\n",
        "        # Predict\n",
        "        pred = model(coords[:, :, 0:1], coords[:, :, 1:2], coords[:, :, 2:3])\n",
        "\n",
        "        # Compute loss (MSE between predictions and ground truth)\n",
        "        loss = torch.mean((pred.squeeze() - targets) ** 2)\n",
        "\n",
        "        # Backpropagation\n",
        "        loss.backward()\n",
        "        loss_track.append(loss.item())\n",
        "        return loss\n",
        "\n",
        "    optim.step(closure)\n",
        "\n",
        "print('Train Loss: {:4f}'.format(loss_track[-1]))\n",
        "\n",
        "# Save the trained model\n",
        "torch.save(model.state_dict(), './pinnsformer_trained.pt')\n"
      ]
    }
  ]
}